{
 "cells": [
  {
   "cell_type": "code",
   "execution_count": 3,
   "metadata": {},
   "outputs": [
    {
     "name": "stdout",
     "output_type": "stream",
     "text": [
      "Index(['uniq_id', 'crawl_timestamp', 'product_url', 'product_name',\n",
      "       'product_category_tree', 'pid', 'retail_price', 'discounted_price',\n",
      "       'image', 'is_FK_Advantage_product', 'description', 'product_rating',\n",
      "       'overall_rating', 'brand', 'product_specifications'],\n",
      "      dtype='object')\n",
      "                            uniq_id            crawl_timestamp  \\\n",
      "0  c2d766ca982eca8304150849735ffef9  2016-03-25 22:59:23 +0000   \n",
      "1  7f7036a6d550aaa89d34c77bd39a5e48  2016-03-25 22:59:23 +0000   \n",
      "2  f449ec65dcbc041b6ae5e6a32717d01b  2016-03-25 22:59:23 +0000   \n",
      "3  0973b37acd0c664e3de26e97e5571454  2016-03-25 22:59:23 +0000   \n",
      "4  bc940ea42ee6bef5ac7cea3fb5cfbee7  2016-03-25 22:59:23 +0000   \n",
      "\n",
      "                                         product_url  \\\n",
      "0  http://www.flipkart.com/alisha-solid-women-s-c...   \n",
      "1  http://www.flipkart.com/fabhomedecor-fabric-do...   \n",
      "2  http://www.flipkart.com/aw-bellies/p/itmeh4grg...   \n",
      "3  http://www.flipkart.com/alisha-solid-women-s-c...   \n",
      "4  http://www.flipkart.com/sicons-all-purpose-arn...   \n",
      "\n",
      "                            product_name  \\\n",
      "0    Alisha Solid Women's Cycling Shorts   \n",
      "1    FabHomeDecor Fabric Double Sofa Bed   \n",
      "2                             AW Bellies   \n",
      "3    Alisha Solid Women's Cycling Shorts   \n",
      "4  Sicons All Purpose Arnica Dog Shampoo   \n",
      "\n",
      "                               product_category_tree               pid  \\\n",
      "0  [\"Clothing >> Women's Clothing >> Lingerie, Sl...  SRTEH2FF9KEDEFGF   \n",
      "1  [\"Furniture >> Living Room Furniture >> Sofa B...  SBEEH3QGU7MFYJFY   \n",
      "2  [\"Footwear >> Women's Footwear >> Ballerinas >...  SHOEH4GRSUBJGZXE   \n",
      "3  [\"Clothing >> Women's Clothing >> Lingerie, Sl...  SRTEH2F6HUZMQ6SJ   \n",
      "4  [\"Pet Supplies >> Grooming >> Skin & Coat Care...  PSOEH3ZYDMSYARJ5   \n",
      "\n",
      "   retail_price  discounted_price  \\\n",
      "0         999.0             379.0   \n",
      "1       32157.0           22646.0   \n",
      "2         999.0             499.0   \n",
      "3         699.0             267.0   \n",
      "4         220.0             210.0   \n",
      "\n",
      "                                               image is_FK_Advantage_product  \\\n",
      "0  [\"http://img5a.flixcart.com/image/short/u/4/a/...                   False   \n",
      "1  [\"http://img6a.flixcart.com/image/sofa-bed/j/f...                   False   \n",
      "2  [\"http://img5a.flixcart.com/image/shoe/7/z/z/r...                   False   \n",
      "3  [\"http://img5a.flixcart.com/image/short/6/2/h/...                   False   \n",
      "4  [\"http://img5a.flixcart.com/image/pet-shampoo/...                   False   \n",
      "\n",
      "                                         description       product_rating  \\\n",
      "0  Key Features of Alisha Solid Women's Cycling S...  No rating available   \n",
      "1  FabHomeDecor Fabric Double Sofa Bed (Finish Co...  No rating available   \n",
      "2  Key Features of AW Bellies Sandals Wedges Heel...  No rating available   \n",
      "3  Key Features of Alisha Solid Women's Cycling S...  No rating available   \n",
      "4  Specifications of Sicons All Purpose Arnica Do...  No rating available   \n",
      "\n",
      "        overall_rating         brand  \\\n",
      "0  No rating available        Alisha   \n",
      "1  No rating available  FabHomeDecor   \n",
      "2  No rating available            AW   \n",
      "3  No rating available        Alisha   \n",
      "4  No rating available        Sicons   \n",
      "\n",
      "                              product_specifications  \n",
      "0  {\"product_specification\"=>[{\"key\"=>\"Number of ...  \n",
      "1  {\"product_specification\"=>[{\"key\"=>\"Installati...  \n",
      "2  {\"product_specification\"=>[{\"key\"=>\"Ideal For\"...  \n",
      "3  {\"product_specification\"=>[{\"key\"=>\"Number of ...  \n",
      "4  {\"product_specification\"=>[{\"key\"=>\"Pet Type\",...  \n"
     ]
    }
   ],
   "source": [
    "import pandas as pd\n",
    "\n",
    "df = pd.read_csv(\"flip.csv\")\n",
    "print(df.columns)\n",
    "print(df.head())\n"
   ]
  }
 ],
 "metadata": {
  "kernelspec": {
   "display_name": "Python 3",
   "language": "python",
   "name": "python3"
  },
  "language_info": {
   "codemirror_mode": {
    "name": "ipython",
    "version": 3
   },
   "file_extension": ".py",
   "mimetype": "text/x-python",
   "name": "python",
   "nbconvert_exporter": "python",
   "pygments_lexer": "ipython3",
   "version": "3.11.11"
  }
 },
 "nbformat": 4,
 "nbformat_minor": 2
}
